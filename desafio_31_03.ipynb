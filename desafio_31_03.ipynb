{
  "nbformat": 4,
  "nbformat_minor": 0,
  "metadata": {
    "colab": {
      "provenance": [],
      "authorship_tag": "ABX9TyO3urxVCKnjEX8V1Qx5JPe5"
    },
    "kernelspec": {
      "name": "python3",
      "display_name": "Python 3"
    },
    "language_info": {
      "name": "python"
    }
  },
  "cells": [
    {
      "cell_type": "markdown",
      "source": [
        "Fazer um algoritmo para ler o valor do lado de um quadrado e mostrar sua área\n",
        "( lado2) e seu perímetro ( 4 x lado )."
      ],
      "metadata": {
        "id": "Fz8prkKADJp2"
      }
    },
    {
      "cell_type": "code",
      "execution_count": null,
      "metadata": {
        "id": "8qtyCmUaCz8v"
      },
      "outputs": [],
      "source": [
        "lado = int(input(\"Digite o valor do lado do quadrado: \"))\n",
        "area = lado*lado\n",
        "peri = lado * 4 \n",
        "print(\"O quadrado tem area {} e perimetro {}\".format(area,peri))"
      ]
    },
    {
      "cell_type": "markdown",
      "source": [
        "Elaborar um algoritmo para ler o nome e a quantidade de filhos de uma pessoa.\n",
        "Mostrar a mensagem: “Fulano tem 5 filhos.”"
      ],
      "metadata": {
        "id": "alMMvLBPEhGY"
      }
    },
    {
      "cell_type": "code",
      "source": [
        "nome = str(input(\"Insira seu nome: \"))\n",
        "filhos = int(input(\"Insira quantos filhos voce tem: \"))\n",
        "print(\"{} tem {} filhos.\".format(nome,filhos))"
      ],
      "metadata": {
        "id": "-CrRW-MKEmMJ"
      },
      "execution_count": null,
      "outputs": []
    },
    {
      "cell_type": "markdown",
      "source": [
        "Fazer um algoritmo para ler os valores da base e altura de um retângulo e mostrar seu perímetro ( 2 x ( base + altura ) ) e sua área ( base x altura )."
      ],
      "metadata": {
        "id": "HztuHckwFu4k"
      }
    },
    {
      "cell_type": "code",
      "source": [
        "base = float(input(\"Valor da base do retangulo: \"))\n",
        "alt = float(input(\"Valor da altura do retangulo: \"))\n",
        "per = (2 * (base + alt))\n",
        "area = (base * alt)\n",
        "print(\"perimetro do retangulo: {}; area do retangulo: {}\".format(per,area))"
      ],
      "metadata": {
        "id": "WM20chiLFyTd"
      },
      "execution_count": null,
      "outputs": []
    },
    {
      "cell_type": "markdown",
      "source": [
        "Fazer um algoritmo para ler o valor do lado de um cubo e mostrar sua área ( 6 x lado2) e seu volume ( lado3)."
      ],
      "metadata": {
        "id": "0Qi-00k0HLfX"
      }
    },
    {
      "cell_type": "code",
      "source": [
        "lc = float(input(\"Valor do lado do cubo: \"))\n",
        "area = 6*(lc**2)\n",
        "vol= lc**3\n",
        "print(\"A area do cubo é: {}; O volume do cubo é: {}.\".format(area,vol))"
      ],
      "metadata": {
        "id": "NSYL_reAHQTW"
      },
      "execution_count": null,
      "outputs": []
    },
    {
      "cell_type": "markdown",
      "source": [
        "Elaborar um algoritmo para ler dois números e mostrar o quociente e o resto da divisão inteira do primeiro pelo segundo número."
      ],
      "metadata": {
        "id": "YX75VnTJIGtU"
      }
    },
    {
      "cell_type": "code",
      "source": [
        "n1 = float(input(\"Valor numero um: \"))\n",
        "n2 = float(input(\"Valor numero dois: \"))\n",
        "q1 = n1/n2\n",
        "r1 = n1%n2\n",
        "print(\"Quociente da divisão: {}; Resto da divisão: {}.\".format(q1,r1))"
      ],
      "metadata": {
        "id": "DD22xcW0IM_N"
      },
      "execution_count": null,
      "outputs": []
    },
    {
      "cell_type": "markdown",
      "source": [
        "Criar um algoritmo para ler a base e a altura de um triângulo e mostrar a sua área ( ( base x altura ) / 2 )."
      ],
      "metadata": {
        "id": "I0Nvih_nJlNf"
      }
    },
    {
      "cell_type": "code",
      "source": [
        "b1 = float(input(\"Valor da base: \"))\n",
        "alt = float(input(\"Valor da altura: \"))\n",
        "area = ((b1*alt)/2)\n",
        "print(\"Area do triangulo: {}.\".format(area))"
      ],
      "metadata": {
        "id": "l7XhGCa-JoNa"
      },
      "execution_count": null,
      "outputs": []
    },
    {
      "cell_type": "markdown",
      "source": [
        "Construir um algoritmo para ler o raio de uma circunferência e mostrar o perímetro ( 2 x π x raio ) e a área ( π x raio2 ). Utilize o π como constante."
      ],
      "metadata": {
        "id": "sCfhjKW1KgEV"
      }
    },
    {
      "cell_type": "code",
      "source": [
        "raio = float(input(\"Valor do raio: \"))\n",
        "per = 2*3.14*raio\n",
        "area = 3.14*raio**2\n",
        "print(\"Perimetro da circunferencia: {}; Area da circunferencia: {}.\".format(per,area))"
      ],
      "metadata": {
        "id": "v-p1aJHAKt82"
      },
      "execution_count": null,
      "outputs": []
    }
  ]
}