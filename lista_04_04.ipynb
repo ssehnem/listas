{
  "nbformat": 4,
  "nbformat_minor": 0,
  "metadata": {
    "colab": {
      "provenance": [],
      "authorship_tag": "ABX9TyMgbmGwZglSQI9w0Cwck21B",
      "include_colab_link": true
    },
    "kernelspec": {
      "name": "python3",
      "display_name": "Python 3"
    },
    "language_info": {
      "name": "python"
    }
  },
  "cells": [
    {
      "cell_type": "markdown",
      "metadata": {
        "id": "view-in-github",
        "colab_type": "text"
      },
      "source": [
        "<a href=\"https://colab.research.google.com/github/ssehnem/listas/blob/main/lista_04_04.ipynb\" target=\"_parent\"><img src=\"https://colab.research.google.com/assets/colab-badge.svg\" alt=\"Open In Colab\"/></a>"
      ]
    },
    {
      "cell_type": "markdown",
      "source": [
        "Faça um Programa que peça as 4 notas bimestrais e mostre a média."
      ],
      "metadata": {
        "id": "ngAOT5AAM2Yx"
      }
    },
    {
      "cell_type": "code",
      "source": [
        "nt1 = float(input(\"Nota 1: \"))\n",
        "nt2 = float(input(\"Nota 2: \"))\n",
        "nt3 = float(input(\"Nota 3: \"))\n",
        "nt4 = float(input(\"Nota 4: \"))\n",
        "med = (nt1+nt2+nt3+nt4)/4\n",
        "print(\"Media: {}\".format(med))\n",
        "if med <7: \n",
        "  print(\"Voce foi reprovado\")\n",
        "else: \n",
        "  print(\"Voce foi aprovado\")"
      ],
      "metadata": {
        "id": "yx8cbQzDM7ME"
      },
      "execution_count": null,
      "outputs": []
    },
    {
      "cell_type": "markdown",
      "source": [
        "Faça um Programa que peça um número e então mostre a mensagem \"O número informado foi [número]\"."
      ],
      "metadata": {
        "id": "VH1ZxUk8MQ0S"
      }
    },
    {
      "cell_type": "code",
      "source": [
        "num = float(input(\"Digite um numero: \"))\n",
        "print(\"O numero informado foi {}.\".format(num))"
      ],
      "metadata": {
        "id": "2UZUdbeZMijr"
      },
      "execution_count": null,
      "outputs": []
    },
    {
      "cell_type": "markdown",
      "source": [
        "Faça um Programa que calcule a área de um quadrado, em seguida mostre o dobro desta área para o usuário."
      ],
      "metadata": {
        "id": "Ky5Zqy2bPeyy"
      }
    },
    {
      "cell_type": "code",
      "source": [
        "ld = float(input(\"Insira o valor do lado do quadrado: \"))\n",
        "ar = ld*ld\n",
        "ar2 = ar*2\n",
        "print(\"a area é: {} e o dobro dela é: {}\".format(ar,ar2))"
      ],
      "metadata": {
        "id": "xt3oKUKtG_hy"
      },
      "execution_count": null,
      "outputs": []
    },
    {
      "cell_type": "markdown",
      "source": [
        "Tendo como dados de entrada a altura e o sexo de uma pessoa, construa um algoritmo que calcule seu peso ideal, utilizando as seguintes fórmulas:\n",
        "a. Para homens: (72.7*h) - 58\n",
        "b. Para mulheres: (62.1*h) - 44.7 (h = altura)\n",
        "c. Peça o peso da pessoa e informe se ela está dentro, acima ou abaixo do peso."
      ],
      "metadata": {
        "id": "Dcimb-txRL68"
      }
    },
    {
      "cell_type": "code",
      "source": [
        "alt = float(input(\"Insira sua altura: \"))\n",
        "sexo = str(input(\"Voce é homem ou mulher? \"))\n",
        "peso = float(input(\"Insira seu peso: \"))\n",
        "\n",
        "# peso ideal da mulher na altura 1.70 nao funciona \n",
        "\n",
        "if sexo==\"homem\":\n",
        "  pi = (72.7*alt) - 58\n",
        "  if peso > pi:\n",
        "    print(\"Voce esta acima do peso\")\n",
        "\n",
        "  elif peso == pi:\n",
        "    print(\"Voce esta no peso ideal\")\n",
        "\n",
        "  elif peso < pi:\n",
        "    print(\"Voce esta abaixo do peso\")\n",
        "\n",
        "else: \n",
        "  pi = (62.1*alt) - 44.7\n",
        "  if peso > pi:\n",
        "    print(\"Voce esta acima do peso\")\n",
        "\n",
        "  elif peso < pi:\n",
        "    print(\"Voce esta abaixo do peso\")\n",
        "\n",
        "  elif pi == peso:\n",
        "    print(\"Voce esta no peso ideal\")"
      ],
      "metadata": {
        "id": "h0ciGRonSL1X"
      },
      "execution_count": null,
      "outputs": []
    },
    {
      "cell_type": "markdown",
      "source": [
        "Write a program that displays the message \"Hello world\" on the screen."
      ],
      "metadata": {
        "id": "FtXBK_qkL4XL"
      }
    },
    {
      "cell_type": "code",
      "execution_count": null,
      "metadata": {
        "id": "PZUeTdP5LyaI"
      },
      "outputs": [],
      "source": [
        "print(\"Hello World!\")"
      ]
    },
    {
      "cell_type": "markdown",
      "source": [
        "Write a program that converts meters to centimeters."
      ],
      "metadata": {
        "id": "8e9YG8OVOzp9"
      }
    },
    {
      "cell_type": "code",
      "source": [
        "m = float(input(\"Meters: \"))\n",
        "cm = m*100\n",
        "print(\"Centimeters: {}\".format(cm))"
      ],
      "metadata": {
        "id": "k5S32SKNO_lG"
      },
      "execution_count": null,
      "outputs": []
    },
    {
      "cell_type": "markdown",
      "source": [
        "Make a Program that asks how much you earn per hour and the number of hours worked in the month. Calculate and show the total of your salary in that month."
      ],
      "metadata": {
        "id": "YeJeqQnCQHv2"
      }
    },
    {
      "cell_type": "code",
      "source": [
        "sh = float(input(\"How much do you earn per hour: \"))\n",
        "hm = float(input(\"How many hours do you work per month: \"))\n",
        "sal_mon = sh*hm\n",
        "sal_year = sal_mon*12\n",
        "print(\"Your salary in a month is ${} and in a year is ${}.\".format(sal_mon,sal_year))"
      ],
      "metadata": {
        "id": "yePTDSPDXLmw"
      },
      "execution_count": null,
      "outputs": []
    },
    {
      "cell_type": "markdown",
      "source": [
        "Having as input data a person's height, build an algorithm that calculates his ideal weight, using the following formula: (72.7*height) - 58"
      ],
      "metadata": {
        "id": "371wuL1AQXtR"
      }
    },
    {
      "cell_type": "code",
      "source": [
        "hei = float(input(\"Insert your height in kg: \"))\n",
        "idwe = (72.7*hei) - 58\n",
        "print(\"Your ideal weight is {:.1f}kg.\".format(idwe))"
      ],
      "metadata": {
        "id": "6yCb-VDMaV-F"
      },
      "execution_count": null,
      "outputs": []
    },
    {
      "cell_type": "markdown",
      "source": [
        "Write a program that asks for 2 integers and a real number. Calculate and show:\n",
        "a. the product of twice the first and half of the second.\n",
        "B. the sum of three times the first and the third.\n",
        "c. the third raised to the cube."
      ],
      "metadata": {
        "id": "4-tHh8wBhpIn"
      }
    },
    {
      "cell_type": "code",
      "source": [
        "n1i = int(input(\"Insert the first integer: \"))\n",
        "n2i = int(input(\"Insert the second integer: \"))\n",
        "realnum = float(input(\"Insert the real number: \"))\n",
        "tfhs = (n1i*2) * (n2i/2)\n",
        "ttft = (n1i*3) + realnum\n",
        "trc = realnum**3 \n",
        "print(\"The product of twice the first and half of the second is: {}.\".format(tfhs))\n",
        "print(\"The sum  of three times the first and the third is: {}.\".format(ttft)) \n",
        "print(\"The third raised to the cube is: {:.2f}\".format(trc))"
      ],
      "metadata": {
        "id": "gsTywXkah6Z3"
      },
      "execution_count": null,
      "outputs": []
    },
    {
      "cell_type": "markdown",
      "source": [
        "João Papo-de-Pescador, homem de bem, comprou um microcomputador para controlar o rendimento diário de seu trabalho. Toda vez que ele traz um peso de peixes maior que o estabelecido pelo regulamento de pesca do estado de São Paulo (50 quilos) deve pagar uma multa de R$ 4,00 por quilo excedente. João precisa que você faça um programa que leia a variável peso (peso de peixes) e verifique se há excesso. Se houver, gravar na variável excesso e na variável multa o valor da multa que João deverá pagar. Caso contrário mostrar tais variáveis com o conteúdo ZERO."
      ],
      "metadata": {
        "id": "I8wkymWEiSQM"
      }
    },
    {
      "cell_type": "code",
      "source": [
        "fish =float(input(\"Insira o peso dos peixes pescados no dia: \"))\n",
        "exc = fish - 50 \n",
        "\n",
        "if fish > 50:\n",
        "  cost = 4.00*exc\n",
        "elif fish <= 50: \n",
        "  cost = 0\n",
        "\n",
        "print(\"O peso dos peixes é: {}kg. O valor a pagar é: R${}.\".format(fish,cost))"
      ],
      "metadata": {
        "id": "o-tyoSw2iYJC"
      },
      "execution_count": null,
      "outputs": []
    },
    {
      "cell_type": "markdown",
      "source": [
        "Faça um Programa que pergunte quanto você ganha por hora e o número de horas trabalhadas no mês.\n",
        "Calcule e mostre o total do seu salário no referido mês, sabendo-se que são descontados 11% para o Imposto\n",
        "de Renda, 8% para o INSS e 5% para o sindicato, faça um programa que nos dê:\n",
        "a. salário bruto.\n",
        "b. quanto pagou ao INSS.\n",
        "c. quanto pagou ao sindicato.\n",
        "d. o salário líquido.\n",
        "calcule os descontos e o salário líquido, conforme a tabela abaixo:"
      ],
      "metadata": {
        "id": "O9HVOXpiifp4"
      }
    },
    {
      "cell_type": "code",
      "source": [
        "hour = float(input(\"How much do you earn per hour? \"))\n",
        "numhour = float(input(\"How many hours do you work per month? \"))\n",
        "total = hour*numhour\n",
        "\n",
        "ir = total*0.11\n",
        "inss = total*0.08\n",
        "sind = total*0.05\n",
        "liq = total - ir - inss - sind\n",
        "print(\"The gross salary is ${}, you paid ${} for INSS, you paid ${} for syndicate. Your net salary is ${}.\".format(total, inss, sind, liq))"
      ],
      "metadata": {
        "id": "4KgWdm4W03fI"
      },
      "execution_count": null,
      "outputs": []
    },
    {
      "cell_type": "markdown",
      "source": [
        "Faça um programa para uma loja de tintas. O programa deverá pedir o tamanho em metros quadrados da área\n",
        "a ser pintada. Considere que a cobertura da tinta é de 1 litro para cada 3 metros quadrados e que a tinta é\n",
        "vendida em latas de 18 litros, que custam R$ 80,00. Informe ao usuário a quantidades de latas de tinta a serem\n",
        "compradas e o preço total."
      ],
      "metadata": {
        "id": "VZWv7LZjihgQ"
      }
    },
    {
      "cell_type": "code",
      "source": [
        "tammetquad = float(input(\"Quantidade de metros quadrados a serem pintados: \"))\n",
        "\n",
        "cobtint = tammetquad/3\n",
        "lat = cobtint/18\n",
        "precolata = lat*80\n",
        "\n",
        "print(\"Quantidade de latas: {:.1f}. Custo: ${:.2f}.\".format(lat,precolata))"
      ],
      "metadata": {
        "id": "GSmEysX832ER"
      },
      "execution_count": null,
      "outputs": []
    },
    {
      "cell_type": "markdown",
      "source": [
        "Faça um Programa para uma loja de tintas. O programa deverá pedir o tamanho em metros quadrados da área a ser pintada. Considere que a cobertura da tinta é de 1 litro para cada 6  metros quadrados e que a tinta é vendida em latas de 18 litros, que custam R$ 80,00 ou em galões de 3,6 litros, que custam R$ 25,00. Informe ao usuário as quantidades de tinta a serem compradas e os respectivos preços em 3 situações:\n",
        "\n",
        "1- comprar apenas latas de 18 litros;\n",
        "\n",
        "2- comprar apenas galões de 3,6 litros;\n",
        "\n",
        "3- misturar latas e galões, de forma que o preço seja o menor. Acrescente 10% de folga e sempre arredonde os valores para cima, isto é, considere latas cheias."
      ],
      "metadata": {
        "id": "33I7qoboimoW"
      }
    },
    {
      "cell_type": "code",
      "source": [
        "import math\n",
        "\n",
        "tammetquad = float(input(\"Insira o tamanho em metros quadrados a serem pintados: \"))\n",
        "\n",
        "cobtint = tammetquad/6\n",
        "lat = math.ceil(cobtint/18)\n",
        "custlat = lat*80\n",
        "gal = math.ceil(cobtint/3.6)\n",
        "custgal = gal*25\n",
        "\n",
        "print() # blank line\n",
        "print(\"A quantidade de tinta a ser usada para pintar é {}L.\".format(cobtint))\n",
        "print() # blank line\n",
        "print(\"Usando latas voce precisara de {}. O custo ficara em: R${:.2f}.\".format(lat, custlat))\n",
        "print(\"Usando galões voce precisara de {}. O custo ficara em: R${:.2f}.\".format(gal, custgal))\n",
        "\n",
        "# ainda não descobri como calcular a mistura dos dois, chatgpt nao foi de muita ajuda tambem."
      ],
      "metadata": {
        "id": "SsYyNdLTIHPi"
      },
      "execution_count": null,
      "outputs": []
    },
    {
      "cell_type": "markdown",
      "source": [
        "Faça um programa que peça o tamanho de um arquivo para download (em MB) e a velocidade de um link de Internet (em Mbps), calcule e informe o tempo aproximado de download do arquivo usando este link (em minutos)."
      ],
      "metadata": {
        "id": "C5bvtZGIi6Ud"
      }
    },
    {
      "cell_type": "code",
      "source": [
        "tamarq = float(input(\"Digite o tamanho do arquivo em MB: \"))\n",
        "velocnet = float(input(\"Digite a velocidade da internet em Mbps: \"))\n",
        "\n",
        "tambits = tamarq * 8 * 1024 * 1024\n",
        "tmpdwnld = tambits / (velocnet * 1024 * 1024)\n",
        "tmpdwnldmin = tmpdwnld / 60\n",
        "\n",
        "print(\"O tempo aproximado de download é de {} minutos\".format(tmpdwnldmin))"
      ],
      "metadata": {
        "id": "pqnOk_BU56Fu"
      },
      "execution_count": null,
      "outputs": []
    }
  ]
}