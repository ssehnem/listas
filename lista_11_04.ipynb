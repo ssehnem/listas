{
  "nbformat": 4,
  "nbformat_minor": 0,
  "metadata": {
    "colab": {
      "provenance": [],
      "authorship_tag": "ABX9TyOirqaJQbEzq2ftMtCa+cf7",
      "include_colab_link": true
    },
    "kernelspec": {
      "name": "python3",
      "display_name": "Python 3"
    },
    "language_info": {
      "name": "python"
    }
  },
  "cells": [
    {
      "cell_type": "markdown",
      "metadata": {
        "id": "view-in-github",
        "colab_type": "text"
      },
      "source": [
        "<a href=\"https://colab.research.google.com/github/ssehnem/listas/blob/main/lista_11_04.ipynb\" target=\"_parent\"><img src=\"https://colab.research.google.com/assets/colab-badge.svg\" alt=\"Open In Colab\"/></a>"
      ]
    },
    {
      "cell_type": "markdown",
      "source": [
        "Faça um algoritmo que calcule o volume de uma lata de óleo. Escreva o resultado.\n",
        "FÓRMULA: volume = pi * raio2 * altura"
      ],
      "metadata": {
        "id": "_4dXmOY8XbU2"
      }
    },
    {
      "cell_type": "code",
      "source": [
        "alt = float(input(\"Insira o valor da altura da lata: \"))\n",
        "raio = float(input(\"Insira o valor do raio da lata: \")) \n",
        "vol = 3.14*(raio**2)*alt\n",
        "print(\"O volume da lata de oleo é: {:.2f}L.\".format(vol))"
      ],
      "metadata": {
        "id": "F8clomIrXePS"
      },
      "execution_count": null,
      "outputs": []
    },
    {
      "cell_type": "markdown",
      "source": [
        "Faça um algoritmo que leia as 3 notas de um aluno e calcule e escreva a média final deste aluno. Considerar que a média é ponderada e que o peso das notas é: 2, 3 e 5, respectivamente."
      ],
      "metadata": {
        "id": "x9HWBxp3Lwff"
      }
    },
    {
      "cell_type": "code",
      "execution_count": null,
      "metadata": {
        "id": "DCY-l-FxLgWs"
      },
      "outputs": [],
      "source": [
        "n1 = float(input(\"Insira o valor da nota 1: \"))\n",
        "n2 = float(input(\"Insira  valor da nota 2: \"))\n",
        "n3 = float(input(\"Insira o valo da nota 3: \"))\n",
        "med = ((n1*2)+(n2*3)+(n3*5))/10\n",
        "print(\"Sua media é: {}.\".format(med))"
      ]
    },
    {
      "cell_type": "markdown",
      "source": [
        "Um sistema de equações lineares da forma:\n",
        "\n",
        "pode ser resolvido utilizando-se as seguintes fórmulas:\n",
        "\n",
        "Faça um algoritmo que leia os valores a, b, c, d, e, f, e calcule x e y."
      ],
      "metadata": {
        "id": "P6-80VT9O5zP"
      }
    },
    {
      "cell_type": "code",
      "source": [
        "va = float(input(\"Insira o valo de a: \"))\n",
        "vb = float(input(\"Insira o valo de b: \"))\n",
        "vc = float(input(\"Insira o valo de c: \"))\n",
        "vd = float(input(\"Insira o valo de d: \"))\n",
        "ve = float(input(\"Insira o valo de e: \"))\n",
        "vf = float(input(\"Insira o valo de f: \"))\n",
        "vx = (vc*ve-vb*vf)/(va*ve-vb*vd)\n",
        "vy = (va*vf-vc*vd)/(va*ve-vb*vd)\n",
        "print(\"O valor de x é {} e de y é {}.\".format(vx,vy))"
      ],
      "metadata": {
        "id": "4aD-lXzDT-Ke"
      },
      "execution_count": null,
      "outputs": []
    },
    {
      "cell_type": "markdown",
      "source": [
        "Faça um algoritmo que leia as coordenadas de dois pontos, P1 (x1, y1) e P2 (x2, y2) respectivamente, e calcule e escreva a distância entre eles."
      ],
      "metadata": {
        "id": "Y3ENpmA71SU9"
      }
    },
    {
      "cell_type": "code",
      "source": [
        "ponto_x1 = float(input(\"Insira o valor do x no ponto 1: \"))\n",
        "ponto_y1 = float(input(\"Insira o valor do y no ponto 1: \"))\n",
        "ponto_x2 = float(input(\"Insira o valor do x no ponto 2: \"))\n",
        "ponto_y2 = float(input(\"Insira o valor do y no ponto 2: \"))\n",
        "distancia = (((ponto_x2 - ponto_x1)**2) + ((ponto_y2 - ponto_y1)**2))**0.5\n",
        "print(\"A distancia entre os pontos 1 e 2 é {:.1f}.\".format(distancia))"
      ],
      "metadata": {
        "id": "FNipzmSG2Pt6"
      },
      "execution_count": null,
      "outputs": []
    },
    {
      "cell_type": "markdown",
      "source": [
        "Faça um algoritmo que leia o tempo de duração de um evento em uma fábrica\n",
        "expressa em segundos e mostre-o expresso em horas, minutos e segundos."
      ],
      "metadata": {
        "id": "k_-ETerKxCd-"
      }
    },
    {
      "cell_type": "code",
      "source": [
        "temposeg = int(input(\"Insira o tempo do evento em segundos: \"))\n",
        "min = temposeg*60\n",
        "horas = min*60\n",
        "print(\"O tempo do evento expresso em horas é: {:.0f}h; em minutos: {:.0f}min; e em segundos: {:.0f}seg.\".format(horas, min, temposeg))"
      ],
      "metadata": {
        "id": "G-nq9yUt5CbF"
      },
      "execution_count": null,
      "outputs": []
    },
    {
      "cell_type": "markdown",
      "source": [
        "Maria quer saber quantos litros de gasolina precisa colocar em seu carro e quanto vai gastar para fazer uma viagem até a casa de sua irmã. Faça um algoritmo que leia:     • A distância da casa de Maria até sua irmã;    • O consumo do carro de Maria (KM rodados / litro);   • O preço da gasolina (litro).    E mostre as informações que Maria necessita."
      ],
      "metadata": {
        "id": "R7ynQUgSB-t4"
      }
    },
    {
      "cell_type": "code",
      "source": [
        "distancia = float(input(\"Insira a distancia em km ate a casa da sua irmã: \"))\n",
        "consumo = float(input(\"Insira o consumo de gasolina do seu carro em km/L: \"))\n",
        "preco_gasol = float(input(\"Insira o preço da gasolina por litro: \"))\n",
        "litros = distancia/consumo\n",
        "gasto = litros*preco_gasol\n",
        "\n",
        "print(f\"Voce precisara de {litros:.2f}L.\")\n",
        "print(f\"O custo total da viagem será de: R${gasto:.2f}.\")"
      ],
      "metadata": {
        "id": "FIIDkv-KD_NI"
      },
      "execution_count": null,
      "outputs": []
    },
    {
      "cell_type": "markdown",
      "source": [
        "O governador acaba de liberar R$ 1.000.000.000,00 para construção de casas\n",
        "populares. Cada casa custa o equivalente a 90 salários mínimos. Faça um algoritmo que leia o valor do salário mínimo e calcule a quantidade de casas que podem ser construídas com o recurso liberado."
      ],
      "metadata": {
        "id": "zvVovVUcCWbH"
      }
    },
    {
      "cell_type": "code",
      "source": [
        "import math\n",
        "\n",
        "sal_min = float(input(\"Digite o valor do salario minimo: \"))\n",
        "custo_casa = sal_min*90\n",
        "quant_casa = math.floor(1000000000/custo_casa)\n",
        "\n",
        "print(f\"A quantidade de casas a serem construidas é {quant_casa}.\")"
      ],
      "metadata": {
        "id": "-5_yMt53MnXO"
      },
      "execution_count": null,
      "outputs": []
    },
    {
      "cell_type": "markdown",
      "source": [
        "*Faça* um algoritmo que leia a idade de uma pessoa expressa em dias e mostre-a\n",
        "expressa em anos, meses e dias."
      ],
      "metadata": {
        "id": "hcckMKjuCdv4"
      }
    },
    {
      "cell_type": "code",
      "source": [
        "idade_dias = int(input(\"Insira a sua idade em dias: \"))\n",
        "meses = idade_dias/12\n",
        "anos = idade_dias/365\n",
        "print(\"A sua idade em dias é: {:.0f}; em meses: {:.0f}; e em anos: {:.0f}.\".format(idade_dias,meses,anos))"
      ],
      "metadata": {
        "id": "t6_1wLqBBzwI"
      },
      "execution_count": null,
      "outputs": []
    }
  ]
}