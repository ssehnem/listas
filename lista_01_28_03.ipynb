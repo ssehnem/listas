{
  "nbformat": 4,
  "nbformat_minor": 0,
  "metadata": {
    "colab": {
      "provenance": []
    },
    "kernelspec": {
      "name": "python3",
      "display_name": "Python 3"
    },
    "language_info": {
      "name": "python"
    }
  },
  "cells": [
    {
      "cell_type": "markdown",
      "source": [
        "Faça um programa que peça dois números inteiros e imprima a soma desses dois números."
      ],
      "metadata": {
        "id": "GJD7RBjyEEaH"
      }
    },
    {
      "cell_type": "code",
      "execution_count": null,
      "metadata": {
        "id": "m_0WhOAlA3zF"
      },
      "outputs": [],
      "source": [
        "n1 = int(input(\"Digite o primeiro número: \"))\n",
        "n2 = int(input(\"Digite o segundo número: \"))\n",
        "print (\"Soma = \", n1 + n2)"
      ]
    },
    {
      "cell_type": "markdown",
      "source": [
        "Escreva um programa que leia um valor em metros e o exiba convertido em milímetros."
      ],
      "metadata": {
        "id": "RCSiQjjnKSbU"
      }
    },
    {
      "cell_type": "code",
      "source": [
        "m = int(input(\"Digite o valor em metros: \"))\n",
        "print (f'Milimetros = {m*1000}')"
      ],
      "metadata": {
        "id": "DhocrsdlBA6C"
      },
      "execution_count": null,
      "outputs": []
    },
    {
      "cell_type": "markdown",
      "source": [
        "Escreva um programa que leia a quantidade de dias, horas, minutos e segundos do usuário. Calcule o total em segundos."
      ],
      "metadata": {
        "id": "X5Sc41LkETMS"
      }
    },
    {
      "cell_type": "code",
      "source": [
        "num1 = float(input('Número de dias: '))\n",
        "num2 = float(input('NUmero de horas: '))\n",
        "num3 = float(input('Numero de minutos: '))\n",
        "num4 = float(input('NUmero de segundos: '))\n",
        "I = (num1*86400) + (num2*3600) + (num3*60) + num4\n",
        "print('O total de segundos é:{}'.format(I))"
      ],
      "metadata": {
        "id": "eynD7BZBD1mj"
      },
      "execution_count": null,
      "outputs": []
    },
    {
      "cell_type": "markdown",
      "source": [
        "Faça um programa que calcule o aumento de um salário. Ele deve solicitar o valor do salário e a porcentagem do aumento. Exiba o valor do aumento e do novo salário.\n"
      ],
      "metadata": {
        "id": "JDPL0m1gHbxi"
      }
    },
    {
      "cell_type": "code",
      "source": [
        "n1 = float(input('Digite o valor do salario: '))\n",
        "n2 = float(input('Digite a porcentagem de aumento: '))\n",
        "nv = (n1 + (n1*(n2/100)))\n",
        "print('O valor do aumento é de: {}%, com ele o valor novo do salário é de: R${}.'.format(n2 ,nv))"
      ],
      "metadata": {
        "id": "RsIx2G38HxPf"
      },
      "execution_count": null,
      "outputs": []
    },
    {
      "cell_type": "markdown",
      "source": [
        "Solicite o preço de uma mercadoria e o percentual de desconto. Exiba o valor do desconto e o preço a pagar."
      ],
      "metadata": {
        "id": "Q2RgcR2KJvIp"
      }
    },
    {
      "cell_type": "code",
      "source": [
        "p1 = float(input('Insira o valor do produto: '))\n",
        "d1 = float(input('Insira o valor do desconto: '))\n",
        "v1 = (p1 - (p1*(d1/100)))\n",
        "print('O valor do desconto é de {}%, com o ele o valor do produto cai para R${}.'.format(d1,v1))"
      ],
      "metadata": {
        "id": "duD1x9W-KjPZ"
      },
      "execution_count": null,
      "outputs": []
    },
    {
      "cell_type": "markdown",
      "source": [
        "Calcule o tempo de uma viagem de carro. Pergunte a distância a percorrer e a velocidade média esperada para a viagem."
      ],
      "metadata": {
        "id": "hGIJ8i2gLelx"
      }
    },
    {
      "cell_type": "code",
      "source": [
        "dp = float(input('Digite a distancia em km a percorrer: '))\n",
        "vm = float(input('Digite a velocidade media em km/h esperada durante a viagem: '))\n",
        "tp = dp/vm\n",
        "print('A distancia de {}km, percorida em {}km/h resultara em uma viagem de {}h.'.format(dp,vm,tp))"
      ],
      "metadata": {
        "id": "UiRn0Rl7Lh5q"
      },
      "execution_count": null,
      "outputs": []
    },
    {
      "cell_type": "markdown",
      "source": [
        "Converta uma temperatura digitada em Celsius para Fahrenheit. F = 9*C/5 + 32 . Faça agora o contrário, de Fahrenheit para Celsius."
      ],
      "metadata": {
        "id": "Yc-EdErrN1or"
      }
    },
    {
      "cell_type": "code",
      "source": [
        "t1 = float(input('Digite a temperatura em Celsius: '))\n",
        "nv = (9*t1/5+32)\n",
        "ct = ((nv-32)*0.556)\n",
        "print('A temperatura de {}°C convertida para Fahrenheit é {}F'.format(t1,nv))\n",
        "print('A nova temperatura em Farenheit {} convertida novamente para Celsius é {:.1f}°C'.format(nv,ct))"
      ],
      "metadata": {
        "id": "0fVRTcUyN47z"
      },
      "execution_count": null,
      "outputs": []
    },
    {
      "cell_type": "markdown",
      "source": [
        "Escreva um programa que pergunte a quantidade de km percorridos por um carro alugado pelo usuário, assim como a quantidade de dias pelos quais o carro foi alugado. Calcule o preço a pagar, sabendo que o carro custa R$ 60,00 por dia e R$ 0,15 por km rodado."
      ],
      "metadata": {
        "id": "0OfSD1wvROGF"
      }
    },
    {
      "cell_type": "code",
      "source": [
        "n1 = float(input('Insira a quantidade de km percorridos: '))\n",
        "n2 = float(input('Insira a quantidade de dias que o carro foi alugado: '))\n",
        "p1 = (60*n2)+(0.15*n1)\n",
        "print('O valor a pagar pelo uso do carro é de R${}'.format(p1))"
      ],
      "metadata": {
        "id": "hFpdNEGfRVhM"
      },
      "execution_count": null,
      "outputs": []
    },
    {
      "cell_type": "markdown",
      "source": [
        "Escreva um programa para calcular a redução do tempo de vida de um fumante. Pergunte a quantidade de cigarros fumados por dia e quantos anos ele já fumou. Considere que um fumante perde 10 minutos de vida a cada cigarro, calcule quantos dias de vida um fumante perderá. Exiba o total de dias."
      ],
      "metadata": {
        "id": "5ZKe3mRrSmsR"
      }
    },
    {
      "cell_type": "code",
      "source": [
        "q1 = float(input('Insira o valor de cigarros fumados por dia: '))\n",
        "a1 = float(input('Insira o numero de anos que voce fuma: '))\n",
        "n1 = q1*3650\n",
        "n2 = (n1*a1)/1440\n",
        "print('O fumante perderá {:.2f} dias fumando.'.format(n2))"
      ],
      "metadata": {
        "id": "vAZ7_C-OTGXC"
      },
      "execution_count": null,
      "outputs": []
    },
    {
      "cell_type": "markdown",
      "source": [
        "Sabendo que str( ) converte valores numéricos para string, calcule quantos dígitos há em 2 elevado a um milhão."
      ],
      "metadata": {
        "id": "3fymbx_1URdF"
      }
    },
    {
      "cell_type": "code",
      "source": [
        "n1 = 2**100\n",
        "pot = str(n1)\n",
        "print(len(pot))"
      ],
      "metadata": {
        "id": "x0S9ZTaMUUcF"
      },
      "execution_count": null,
      "outputs": []
    }
  ]
}